{
  "nbformat": 4,
  "nbformat_minor": 0,
  "metadata": {
    "colab": {
      "provenance": [],
      "authorship_tag": "ABX9TyN5H1y6Zo7MV261jRFDg79U",
      "include_colab_link": true
    },
    "kernelspec": {
      "name": "python3",
      "display_name": "Python 3"
    },
    "language_info": {
      "name": "python"
    }
  },
  "cells": [
    {
      "cell_type": "markdown",
      "metadata": {
        "id": "view-in-github",
        "colab_type": "text"
      },
      "source": [
        "<a href=\"https://colab.research.google.com/github/thaynamorimm/Analise-de-dados-1/blob/main/GitCodes.ipynb\" target=\"_parent\"><img src=\"https://colab.research.google.com/assets/colab-badge.svg\" alt=\"Open In Colab\"/></a>"
      ]
    },
    {
      "cell_type": "markdown",
      "source": [
        "# **Just all my codes for Github!!!**"
      ],
      "metadata": {
        "id": "bnOlt5361vUt"
      }
    },
    {
      "cell_type": "markdown",
      "source": [],
      "metadata": {
        "id": "nRD7WVGW5zXP"
      }
    },
    {
      "cell_type": "code",
      "source": [
        "#Miojo da Pucca!\n",
        "\n",
        "Noodles = input()\n",
        "Miojo = []\n",
        "\n",
        "while True:\n",
        " Noodles = Miojo.append(Noodles)\n",
        " Noodles = input()\n",
        " if Noodles == '.':\n",
        "  break\n",
        "\n",
        "print(Miojo)"
      ],
      "metadata": {
        "colab": {
          "base_uri": "https://localhost:8080/"
        },
        "id": "gCTKlE_Kabm9",
        "outputId": "491b992e-aae9-400c-c8a5-bd95d1567373"
      },
      "execution_count": null,
      "outputs": [
        {
          "output_type": "stream",
          "name": "stdout",
          "text": [
            "Pu\n",
            "Cca\n",
            ".\n",
            "['Pu', 'Cca']\n"
          ]
        }
      ]
    },
    {
      "cell_type": "code",
      "source": [
        "#Miojo da Pucca 2!\n",
        "#Agora +++ Hardcore!!!\n",
        "\n",
        "\n",
        "def tijela(Miojo):\n",
        "  Noodles = input()\n",
        "\n",
        "  while Noodles != '.':\n",
        "    Noodles = Miojo.append(Noodles)\n",
        "    Noodles = input()\n",
        "\n",
        "Miojo= []\n",
        "tijela(Miojo)\n",
        "\n",
        "print(Miojo)"
      ],
      "metadata": {
        "colab": {
          "base_uri": "https://localhost:8080/"
        },
        "id": "NUJ3vZa3dmY4",
        "outputId": "6f934ffe-e976-4fa9-e9ca-b7978c999473"
      },
      "execution_count": null,
      "outputs": [
        {
          "output_type": "stream",
          "name": "stdout",
          "text": [
            "vffd\n",
            "vfv\n",
            ".\n",
            "['vffd', 'vfv']\n"
          ]
        }
      ]
    },
    {
      "cell_type": "code",
      "source": [
        "#Miojo da Pucca 3!\n",
        "\n",
        "def tijela(Miojo):\n",
        "  Ingredientes = input()\n",
        "\n",
        "  if Ingredientes != '.':\n",
        "    Miojo.append(Ingredientes)\n",
        "    return tijela(Miojo)\n",
        "  else:\n",
        "    return Miojo\n",
        "\n",
        "Miojo = tijela([])\n",
        "\n",
        "print(Miojo)"
      ],
      "metadata": {
        "colab": {
          "base_uri": "https://localhost:8080/"
        },
        "id": "-yCygpZShTXG",
        "outputId": "2f747c36-415d-4a9c-a8d9-f0afa765bafc"
      },
      "execution_count": null,
      "outputs": [
        {
          "output_type": "stream",
          "name": "stdout",
          "text": [
            "Miojinho\n",
            "Miojão\n",
            "Mijão\n",
            "Miojo\n",
            ".\n",
            "['Miojinho', 'Miojão', 'Mijão', 'Miojo']\n"
          ]
        }
      ]
    },
    {
      "cell_type": "code",
      "source": [
        "def monta_bonecas_russas(bonecas):\n",
        "   boneca = input()\n",
        "\n",
        "   if boneca != '.':\n",
        "     bonecas.append(boneca)\n",
        "     return monta_bonecas_russas(bonecas)\n",
        "   else:\n",
        "     return bonecas\n",
        "\n",
        "bonecas = monta_bonecas_russas([])\n",
        "print(bonecas)"
      ],
      "metadata": {
        "colab": {
          "base_uri": "https://localhost:8080/"
        },
        "id": "3def03W3pKYx",
        "outputId": "36361e27-a971-4019-90ca-f5eb4187a99d"
      },
      "execution_count": null,
      "outputs": [
        {
          "output_type": "stream",
          "name": "stdout",
          "text": [
            "Pucca\n",
            "Loves\n",
            "Haru!!!!!!!\n",
            ".\n",
            "['Pucca', 'Loves', 'Haru!!!!!!!']\n"
          ]
        }
      ]
    },
    {
      "cell_type": "code",
      "source": [
        "#Soletrando...\n",
        "\n",
        "\n",
        "def soletrar():\n",
        "  palavra = input()\n",
        "  palavras = []\n",
        "\n",
        "  while True:\n",
        "    letra = input()\n",
        "    if letra == '.':\n",
        "     break\n",
        "    palavras.append(letra)\n",
        "\n",
        "  lista_palavras = ''.join(palavras)\n",
        "  if lista_palavras == palavra:\n",
        "    print('True')\n",
        "  else:\n",
        "    print('False')\n",
        "\n",
        "soletrar()"
      ],
      "metadata": {
        "id": "bg_rwxJWZ264"
      },
      "execution_count": null,
      "outputs": []
    },
    {
      "cell_type": "code",
      "source": [
        "\n",
        "entrada = input()\n",
        "numeros = [int(num) for num in entrada.split()]\n",
        "nova_lista = []\n",
        "\n",
        "\n",
        "while numeros:\n",
        "    print(\"-\", str(numeros))\n",
        "    print(\"+\", str(nova_lista))\n",
        "    menor_valor = min(numeros)\n",
        "    nova_lista.append(menor_valor)\n",
        "    numeros.remove(menor_valor)\n",
        "\n",
        "\n",
        "print(\"-\", str(numeros))\n",
        "print(\"+\", str(nova_lista))\n"
      ],
      "metadata": {
        "id": "UclweCgCSOqV"
      },
      "execution_count": null,
      "outputs": []
    },
    {
      "cell_type": "code",
      "source": [
        "#Seu maior:\n",
        "\n",
        "def seu_maior():\n",
        "   numeros = [int(item) for item in input().split()]\n",
        "   maior = numeros[0]\n",
        "   for numero in numeros:\n",
        "      if numero > maior:\n",
        "         maior = numero\n",
        "   print(maior)\n",
        "\n",
        "seu_maior()"
      ],
      "metadata": {
        "id": "Te2U_LY_ZOWB"
      },
      "execution_count": null,
      "outputs": []
    },
    {
      "cell_type": "code",
      "source": [
        "#Infinito enquanto dure\n",
        "\n",
        "def padrao():\n",
        "  texto = input()\n",
        "  cont = []\n",
        "  while True:\n",
        "    txt = input()\n",
        "    cont.append(txt)\n",
        "    if txt == texto:\n",
        "     break\n",
        "  cont.pop()\n",
        "  print(len(cont))\n",
        "\n",
        "padrao()"
      ],
      "metadata": {
        "id": "PzuUp_pEa6Mh"
      },
      "execution_count": null,
      "outputs": []
    },
    {
      "cell_type": "code",
      "source": [
        "#Envelope de R$\n",
        "\n",
        "def numeracao():\n",
        "  valor = 0\n",
        "\n",
        "  while True:\n",
        "       nota = int(input())\n",
        "       if nota == 0:\n",
        "        break\n",
        "       valor += nota\n",
        "\n",
        "  print(valor)\n",
        "\n",
        "numeracao()"
      ],
      "metadata": {
        "id": "HDZ0g34fbFzi"
      },
      "execution_count": null,
      "outputs": []
    },
    {
      "cell_type": "code",
      "source": [
        "#Memoria utilizada\n",
        "\n",
        "def memoria():\n",
        "    acumulado = []\n",
        "    v_pos = 0\n",
        "    while True:\n",
        "        v_neg = int(input())\n",
        "        v_pos += v_neg\n",
        "        acumulado.append(v_pos)\n",
        "        if v_neg == 0:\n",
        "            break\n",
        "    print(max(acumulado))\n",
        "\n",
        "memoria()"
      ],
      "metadata": {
        "id": "WImA6glYbLpn"
      },
      "execution_count": null,
      "outputs": []
    },
    {
      "cell_type": "code",
      "source": [
        "#Feliz aniversário\n",
        "\n",
        "\n",
        "velas = int(input())\n",
        "\n",
        "def aniversario(velas):\n",
        " vela = 0\n",
        " while True:\n",
        "  sopro = input()\n",
        "  if sopro == 'fu':\n",
        "   print('precisa de muito mais força no sopro!')\n",
        "  elif sopro == 'fuuu':\n",
        "   print('um pouco mais de força no sopro!')\n",
        "  elif sopro == 'fuuuuuuu':\n",
        "   vela += 1\n",
        "   print('bom sopro!')\n",
        " print('Parabéns para pelo seu aniversário de', velas, 'anos!')\n",
        "\n",
        "aniversario(velas)"
      ],
      "metadata": {
        "id": "U2KiSwVAbQio"
      },
      "execution_count": null,
      "outputs": []
    },
    {
      "cell_type": "code",
      "source": [
        "#Gorjeta\n",
        "\n",
        "p_total = float(input())\n",
        "p_porcent = float(input())\n",
        "\n",
        "resultado = p_total * p_porcent\n",
        "print('%.1f' % resultado)\n"
      ],
      "metadata": {
        "id": "erjGBUqVSlUJ"
      },
      "execution_count": null,
      "outputs": []
    },
    {
      "cell_type": "code",
      "source": [
        "#Como saber a quantidade de visitas que foram feitas?\n",
        "\n",
        "n_visitas = int(input())\n",
        "n_h = 0\n",
        "\n",
        "for i in range(n_visitas):\n",
        "  n_visitas = int(input())\n",
        "  n_h +=  n_visitas\n",
        "\n",
        "print(n_h)\n"
      ],
      "metadata": {
        "id": "iWpTF_99S8tM"
      },
      "execution_count": null,
      "outputs": []
    },
    {
      "cell_type": "code",
      "source": [
        "#Cálculo do IMC\n",
        "\n",
        "\n",
        "peso = float(input())\n",
        "altura = float(input())\n",
        "\n",
        "IMC = peso / (altura ** 2)\n",
        "imc = round(IMC, 2)\n",
        "\n",
        "if IMC <= 17:\n",
        " print(imc, 'Muito abaixo do peso')\n",
        "\n",
        "elif 17 <= IMC < 18.49:\n",
        " print(imc, 'Abaixo do peso')\n",
        "\n",
        "elif 18.50 <= IMC < 24.99:\n",
        " print(imc, 'Peso normal')\n",
        "\n",
        "elif 24 <= IMC < 29.99:\n",
        " print(imc, 'Acima do peso')\n",
        "\n",
        "elif 30 <= IMC < 34.99:\n",
        " print(imc, 'Obesidade I')\n",
        "\n",
        "elif 35 <= IMC < 39.99:\n",
        " print(imc, 'Obesidade II (severa)')\n",
        "\n",
        "elif IMC >= 40:\n",
        " print('%.2f' % imc, 'Obesidade III (mórbida)')\n"
      ],
      "metadata": {
        "id": "0hf8T7LrTcWt"
      },
      "execution_count": null,
      "outputs": []
    },
    {
      "cell_type": "code",
      "source": [
        "#Qual idade é permitida utilizar ás mídias sociais?\n",
        "\n",
        "\n",
        "idade = int(input())\n",
        "\n",
        "if idade < 13:\n",
        " print('De acordo com especialistas, é contraindicado o acesso às mídias sociais e telas na sua faixa etária.')\n",
        " if 10 <= idade <= 12:\n",
        "  print('Sua idade coloca você entre as jovens mais vulneráveis: jovens de 10 a 12 anos.')\n",
        "\n",
        "else:\n",
        "    print('Usar as telas ou computadores não é o problema, mas sim como fazemos uso dessas ferramentas.')\n"
      ],
      "metadata": {
        "id": "0mSQjFehTrSB"
      },
      "execution_count": null,
      "outputs": []
    },
    {
      "cell_type": "code",
      "source": [
        "#Democracia: maior número de votos\n",
        "\n",
        "voto1 = int(input())\n",
        "voto2 = int(input())\n",
        "voto3 = int(input())\n",
        "voto4 = int(input())\n",
        "\n",
        "if voto1 > voto2 and voto1 > voto3 and voto1 > voto4:\n",
        " print('maior:',voto1)\n",
        "elif voto2 > voto1 and voto2 > voto3 and voto2 > voto4:\n",
        " print('maior:',voto2)\n",
        "elif voto3 > voto1 and voto3 > voto2 and voto3 > voto4:\n",
        " print('maior:',voto3)\n",
        "elif voto4 > voto1 and voto4 > voto2 and voto4 > voto3:\n",
        " print('maior:',voto4)\n"
      ],
      "metadata": {
        "id": "lNNIfjD2dmdW"
      },
      "execution_count": null,
      "outputs": []
    },
    {
      "cell_type": "code",
      "source": [
        "#Calculadora maluca em Python\n",
        "\n",
        "\n",
        "simbolo = input()\n",
        "num = int(input())\n",
        "num2 = int(input())\n",
        "\n",
        "if simbolo == '-':\n",
        " resultado = num - num2\n",
        " print(resultado)\n",
        "\n",
        "elif simbolo == '+':\n",
        " resultado = num + num2\n",
        " print(resultado)\n",
        "\n",
        "elif simbolo == '*':\n",
        "  resultado = num * num2\n",
        "  print(resultado)\n",
        "\n",
        "elif simbolo == '**':\n",
        "  resultado = num ** num2\n",
        "  print(resultado)\n",
        "\n",
        "elif simbolo == '/':\n",
        "  resultado = num / num2\n",
        "  print(resultado)\n",
        "\n",
        "elif simbolo == '//':\n",
        "  resultado = num // num2\n",
        "  print(resultado)\n",
        "\n",
        "elif simbolo == '%':\n",
        "  resultado = num % num2\n",
        "  print(resultado)"
      ],
      "metadata": {
        "id": "pd9Ks4LXUGO1"
      },
      "execution_count": null,
      "outputs": []
    },
    {
      "cell_type": "code",
      "source": [
        "#Fun with Lists: palindrome .append() .pop()\n",
        "\n",
        "string = input()\n",
        "\n",
        "lis = []\n",
        "inv = ''\n",
        "\n",
        "for indice, letra in enumerate(string):\n",
        "  lis.append(letra)\n",
        "\n",
        "while lis != []:\n",
        "  letra = lis.pop()\n",
        "  inv += letra\n",
        "\n",
        "if inv == string:\n",
        "  print('S')\n",
        "else:\n",
        "  print('N')"
      ],
      "metadata": {
        "id": "vo_O8TVxdwbI"
      },
      "execution_count": null,
      "outputs": []
    },
    {
      "cell_type": "code",
      "source": [
        "#Coloque seu CPF\n",
        "\n",
        "cpf = input()\n",
        "\n",
        "cpf.replace(\".\",\"\")\n",
        "cpf.replace(\"-\",\"\")\n",
        "\n",
        "if len(cpf) == 11:\n",
        " print(cpf)\n",
        " print('OK')\n",
        "\n",
        "else:\n",
        "  print(cpf)\n",
        "  print('ERROR')\n",
        "\n",
        "#codigo com erro"
      ],
      "metadata": {
        "colab": {
          "base_uri": "https://localhost:8080/"
        },
        "id": "B52PaWBqUPfS",
        "outputId": "6a2cc0c6-6296-41cb-c9fb-e6221e290ef1"
      },
      "execution_count": null,
      "outputs": [
        {
          "output_type": "stream",
          "name": "stdout",
          "text": [
            "653.345.009.05\n",
            "653.345.009.05\n",
            "ERROR\n"
          ]
        }
      ]
    },
    {
      "cell_type": "code",
      "source": [
        "#Meu CPF 1\n",
        "\n",
        "CPF = input()\n",
        "\n",
        "if '.' in CPF or '-' in CPF:\n",
        " print(CPF.replace('.','').replace('-',''))\n",
        "\n",
        "else:\n",
        "  print(CPF)"
      ],
      "metadata": {
        "id": "s5SPKD73d1qC"
      },
      "execution_count": null,
      "outputs": []
    },
    {
      "cell_type": "code",
      "source": [
        "#Meu CPF 2\n",
        "\n",
        "CPF = input()\n",
        "CPF = CPF.replace(\".\",\"\").replace(\"-\",\"\")\n",
        "print(CPF)\n",
        "\n",
        "if len(CPF) == 11:\n",
        " print('OK')\n",
        "else:\n",
        " print('ERROR')"
      ],
      "metadata": {
        "id": "yaiUvqmzd4ng"
      },
      "execution_count": null,
      "outputs": []
    },
    {
      "cell_type": "code",
      "source": [
        "#Meu CPF 3\n",
        "\n",
        "cpf = input()\n",
        "cpf = cpf.replace('.','').replace('-','')\n",
        "\n",
        "if not cpf.isdigit() or len(cpf) !=11:\n",
        "   if not cpf.isdigit():\n",
        "     print('ENCODING ERROR')\n",
        "   if len(cpf) !=11:\n",
        "     print('SIZE ERROR')\n",
        "else:\n",
        "   print(cpf)"
      ],
      "metadata": {
        "id": "2lgWBAnPd4vl"
      },
      "execution_count": null,
      "outputs": []
    },
    {
      "cell_type": "code",
      "source": [
        "#Como converter horas?\n",
        "\n",
        "horas = int(input())\n",
        "min = int(input())\n",
        "\n",
        "total = (horas * 60) + min\n",
        "\n",
        "print(total)"
      ],
      "metadata": {
        "colab": {
          "base_uri": "https://localhost:8080/"
        },
        "id": "jSWbHmu3UxMP",
        "outputId": "158856b0-cb08-42c8-80f3-033de0768c0e"
      },
      "execution_count": null,
      "outputs": [
        {
          "output_type": "stream",
          "name": "stdout",
          "text": [
            "24\n",
            "06\n",
            "1446\n"
          ]
        }
      ]
    },
    {
      "cell_type": "code",
      "source": [
        "#Cálculo de receita\n",
        "\n",
        "x = int(input())\n",
        "sopa = int(input())\n",
        "chá = int(input())\n",
        "\n",
        "f = x * 240\n",
        "z = sopa * 15\n",
        "g = chá * 5\n",
        "\n",
        "print(f, 'ml')\n",
        "print(z, 'ml')\n",
        "print(g, 'ml')"
      ],
      "metadata": {
        "id": "wQBwIkh-U8x8"
      },
      "execution_count": null,
      "outputs": []
    },
    {
      "cell_type": "code",
      "source": [
        "#Qual foi a sua nota do Enem?\n",
        "\n",
        "nota1 = int(input())\n",
        "nota2 = int(input())\n",
        "nota3 = int(input())\n",
        "nota4 = int(input())\n",
        "nota5 = int(input())\n",
        "peso1 = int(input())\n",
        "peso2 = int(input())\n",
        "peso3 = int(input())\n",
        "peso4 = int(input())\n",
        "peso5 = int(input())\n",
        "\n",
        "total_n = nota1 * peso1 + nota2 * peso2 + nota3 * peso3 + nota4 * peso4 + nota5 * peso5\n",
        "total_p = peso1 + peso2 + peso3 + peso4 + peso5\n",
        "média = total_n / total_p\n",
        "print(média)\n"
      ],
      "metadata": {
        "id": "VRFXk39sVFhP"
      },
      "execution_count": null,
      "outputs": []
    },
    {
      "cell_type": "code",
      "source": [
        "#Regra de três:\n",
        "\n",
        "Total_Antes = float(input())\n",
        "Minimo_Antes = float(input())\n",
        "Total_Depois = float(input())\n",
        "\n",
        "resultado = Total_Depois * Minimo_Antes / Total_Antes\n",
        "print(resultado)"
      ],
      "metadata": {
        "id": "a6wMZcCQhsQ_"
      },
      "execution_count": null,
      "outputs": []
    },
    {
      "cell_type": "code",
      "source": [
        "#Regra de três composta para calcular monitorias\n",
        "\n",
        "\n",
        "meninas1 = int(input())\n",
        "dias1 = int(input())\n",
        "monitores1 = int(input())\n",
        "alunas2 = int(input())\n",
        "dias2 = int(input())\n",
        "monitores2 = monitores1\n",
        "\n",
        "monitores2 = ((alunas2 * dias2)* monitores1) / (meninas1*dias1)\n",
        "print(\"{:.0f}\".format(monitores2))"
      ],
      "metadata": {
        "id": "tXlE8O7dVgjj"
      },
      "execution_count": null,
      "outputs": []
    },
    {
      "cell_type": "code",
      "source": [
        "#O que vem depois de um número grandão?\n",
        "\n",
        "v1 = int(input())\n",
        "v2 = int(input())\n",
        "v3 = int(input())\n",
        "v4 = int(input())\n",
        "\n",
        "conta = v1 * 1 + v2 * 10 + v3 * 100 + v4 *1000\n",
        "print(conta+1)"
      ],
      "metadata": {
        "id": "CnpoJ-mcVtIc"
      },
      "execution_count": null,
      "outputs": []
    },
    {
      "cell_type": "code",
      "source": [
        "#Democracia: ... quem ganhou?\n",
        "\n",
        "q = int(input())\n",
        "\n",
        "X = 0\n",
        "Y = 0\n",
        "N = 0\n",
        "B = 0\n",
        "\n",
        "for i in range(q):\n",
        " letra = input()\n",
        " if letra == 'X':\n",
        "    X += 1\n",
        " elif letra == 'Y':\n",
        "    Y += 1\n",
        " elif letra == 'N':\n",
        "    N += 1\n",
        " elif letra == 'B':\n",
        "    B += 1\n",
        "\n",
        "print('X', X)\n",
        "print('Y', Y)\n",
        "print('Brancos e nulos', N+B)\n",
        "\n",
        "if X > Y:\n",
        "  print('vitoria:','X')\n",
        "elif X < Y:\n",
        "  print('vitoria:','Y')\n",
        "else:\n",
        "  print('empate!')"
      ],
      "metadata": {
        "id": "1HY1o1F8Vx8C"
      },
      "execution_count": null,
      "outputs": []
    },
    {
      "cell_type": "code",
      "source": [
        "#Quantos valores superam a pior estimativa?\n",
        "\n",
        "v1 = float(input())\n",
        "\n",
        "observacoes = 0\n",
        "estimativas = 0\n",
        "\n",
        "while True:\n",
        "  v2 = float(input())\n",
        "  if v2 == -1:\n",
        "   break\n",
        "\n",
        "  observacoes += 1\n",
        "  if v1 > v2:\n",
        "   estimativas += 1\n",
        "\n",
        "print(observacoes,estimativas)"
      ],
      "metadata": {
        "id": "ADglWuryV3hv"
      },
      "execution_count": null,
      "outputs": []
    },
    {
      "cell_type": "code",
      "source": [
        "#Como saber um produto vencido? Fármacia solidária te ajuda!\n",
        "\n",
        "dia1, mes1, ano1 = [int(item) for item in input().split()]\n",
        "dia2, mes2, ano2 = [int(item) for item in input().split()]\n",
        "\n",
        "if mes2 > mes1 and ano1 == ano2:\n",
        " print('vence este ano')\n",
        "\n",
        "elif dia2 >= dia1 and mes1 == mes2 and ano1 == ano2:\n",
        "  print('vence este mês')\n",
        "\n",
        "elif ano1 < ano2:\n",
        " print('na validade')\n",
        "\n",
        "else:\n",
        " print('vencido!')\n"
      ],
      "metadata": {
        "id": "vDyTskQ9V9P5"
      },
      "execution_count": null,
      "outputs": []
    },
    {
      "cell_type": "code",
      "source": [
        "#Manilha velha\n",
        "\n",
        "carta1 = input()\n",
        "carta2 = input()\n",
        "carta3 = input()\n",
        "\n",
        "cartas = [carta1, carta2, carta3]\n",
        "cartas_excelentes = 0\n",
        "\n",
        "if '4Paus' in cartas:\n",
        "  cartas_excelentes +=1\n",
        "if '7Copas' in cartas:\n",
        "  cartas_excelentes +=1\n",
        "if 'AEspadas' in cartas:\n",
        "  cartas_excelentes +=1\n",
        "if '7Ouros' in cartas:\n",
        "  cartas_excelentes +=1\n",
        "\n",
        "print(cartas_excelentes)"
      ],
      "metadata": {
        "id": "56P4btJfWL8W"
      },
      "execution_count": null,
      "outputs": []
    },
    {
      "cell_type": "code",
      "source": [
        "#Volei: vencedor\n",
        "\n",
        "time1 = input()\n",
        "time2 = input()\n",
        "\n",
        "pontos1 = [int(item) for item in input().split()]\n",
        "pontos2 = [int(item) for item in input().split()]\n",
        "\n",
        "sets1 = 0\n",
        "sets2 = 0\n",
        "\n",
        "for i in range(len(pontos1)):\n",
        " if pontos1[i]> pontos2[i]:\n",
        "  sets1 +=1\n",
        " else:\n",
        "  sets2 +=1\n",
        "\n",
        "if pontos1 > pontos2:\n",
        "   print(time1,'(total',len(pontos1),'sets)')\n",
        "else:\n",
        "   print(time2,'(total',len(pontos1),'sets)')"
      ],
      "metadata": {
        "id": "Rcqnd6dEWyjY"
      },
      "execution_count": null,
      "outputs": []
    },
    {
      "cell_type": "code",
      "source": [
        "#Volei, quem começa?\n",
        "\n",
        "time1 = input()\n",
        "time2 = input()\n",
        "colocacao = input().split()\n",
        "\n",
        "lista_de_valores_inteiros = []\n",
        "\n",
        "for i in colocacao:\n",
        "  inteiro = int(i)\n",
        "  lista_de_valores_inteiros.append(inteiro)\n",
        "\n",
        "pontos1 = lista_de_valores_inteiros[0]\n",
        "pontos2 = lista_de_valores_inteiros[1]\n",
        "pontuador = lista_de_valores_inteiros[2]\n",
        "\n",
        "if pontuador ==1:\n",
        "  pontos1 += 1\n",
        "else:\n",
        "  pontos2 += 1\n",
        "\n",
        "print(time1, pontos1)\n",
        "print(time2, pontos2)"
      ],
      "metadata": {
        "id": "HgBizR6SWjQK"
      },
      "execution_count": null,
      "outputs": []
    },
    {
      "cell_type": "code",
      "source": [
        "#Volei: set\n",
        "\n",
        "sete = []\n",
        "\n",
        "p1 = int(input())\n",
        "p2 = int(input())\n",
        "\n",
        "maior_p = max(p1, p2)\n",
        "menor_p = min(p1, p2)\n",
        "\n",
        "if maior_p >= 25 and maior_p - menor_p >= 2:\n",
        " sete.append('S')\n",
        " print(','.join(sete))\n",
        "\n",
        "elif maior_p == 24 and maior_p - menor_p >= 2:\n",
        " sete.append('S')\n",
        " print(','.join(sete))\n",
        "\n",
        "else:\n",
        "  print('N')\n",
        "\n"
      ],
      "metadata": {
        "id": "Oaccuzime8iQ"
      },
      "execution_count": null,
      "outputs": []
    },
    {
      "cell_type": "code",
      "source": [
        "#Volei: um set na linha (for-in-string)\n",
        "\n",
        "time1 = input()\n",
        "time2 = input()\n",
        "pontos = input()\n",
        "\n",
        "if pontos == '0':\n",
        " print('Início do set')\n",
        "\n",
        "pontos_t1 = 0\n",
        "pontos_t2 = 0\n",
        "\n",
        "for ponto in pontos:\n",
        " if ponto == '1':\n",
        "  pontos_t1 += 1\n",
        " elif ponto == '2':\n",
        "  pontos_t2 += 1\n",
        "\n",
        "print(time1, pontos_t1)\n",
        "print(time2, pontos_t2)\n"
      ],
      "metadata": {
        "id": "K_mKh4JQfopl"
      },
      "execution_count": null,
      "outputs": []
    },
    {
      "cell_type": "code",
      "source": [
        "#Jogo da tentativa e erro\n",
        "\n",
        "#Tentativa e erro\n",
        "\n",
        "valor = int(input())\n",
        "\n",
        "def conta(valor):\n",
        "  while True:\n",
        "   palpite = int(input())\n",
        "   if palpite > valor:\n",
        "    print('menor')\n",
        "   elif palpite < valor:\n",
        "    print('maior')\n",
        "   elif palpite == valor:\n",
        "    print('igual')\n",
        "    break\n",
        "\n",
        "conta(valor)\n"
      ],
      "metadata": {
        "id": "NvnJqhc6cNbi"
      },
      "execution_count": null,
      "outputs": []
    },
    {
      "cell_type": "code",
      "source": [
        "#Vamos jogar o jogo do Pálito?\n",
        "\n",
        "#Palitos:\n",
        "\n",
        "palitos = input()\n",
        "lista_palitos = palitos.split()\n",
        "palpites = []\n",
        "\n",
        "for i in lista_palitos:\n",
        "  palpite = int(i)\n",
        "  palpites.append(palpite)\n",
        "\n",
        "soma = sum(palpites)\n",
        "palpites = [int(item) for item in input().split()]\n",
        "\n",
        "chute = 1\n",
        "quem_acerto = -1\n",
        "\n",
        "for palpite in palpites:\n",
        " if palpite == soma:\n",
        "  quem_acerto = chute\n",
        " chute += 1\n",
        "\n",
        "print(quem_acerto)\n"
      ],
      "metadata": {
        "id": "tUQpakvaXE6U"
      },
      "execution_count": null,
      "outputs": []
    },
    {
      "cell_type": "code",
      "source": [
        "#Gerenciando tarefas\n",
        "#Quantas tarefas eu tenho que a tornas um tarefão?\n",
        "\n",
        "def tarefao():\n",
        "    tarefas_subitas = []\n",
        "    tarefas_listas = []\n",
        "    while True:\n",
        "        entrada = input()\n",
        "        if entrada == '.':\n",
        "            break\n",
        "        tempo, descricao = entrada.split(' ', 1)\n",
        "        tempo = int(tempo)\n",
        "        if tempo <= 3:\n",
        "            tarefas_subitas.append(descricao)\n",
        "        else:\n",
        "            tarefas_listas.append(descricao)\n",
        "\n",
        "    for tarefa_subita in tarefas_subitas:\n",
        "        print('Fazer agora a tarefa:', tarefa_subita)\n",
        "    if tarefas_listas:\n",
        "        print(tarefas_listas)\n",
        "\n",
        "tarefao()"
      ],
      "metadata": {
        "id": "sTjn32IRZU90"
      },
      "execution_count": null,
      "outputs": []
    },
    {
      "cell_type": "code",
      "source": [
        "#Busca binária\n",
        "\n",
        "lista = [1, 2, 3, 6, 20, 25, 27]\n",
        "busca = int(input())\n",
        "\n",
        "def busca_binaria(lista, busca):\n",
        "    superior = len(lista) - 1\n",
        "    inferior = 0\n",
        "    while superior >= inferior:\n",
        "        meio = (superior + inferior) // 2\n",
        "        if lista[meio] == busca:\n",
        "            return meio\n",
        "        if lista[meio] < busca:\n",
        "            inferior = meio + 1\n",
        "        elif lista[meio] > busca:\n",
        "            superior = meio - 1\n",
        "    return 'Ausente'\n",
        "\n",
        "resultado = busca_binaria(lista, busca)\n",
        "print(resultado)\n"
      ],
      "metadata": {
        "id": "U4tbFxliZn8i"
      },
      "execution_count": null,
      "outputs": []
    },
    {
      "cell_type": "code",
      "source": [
        "#Mario Prata: while, string count()\n",
        "\n",
        "def procurador():\n",
        "  palavra = input()\n",
        "  texto1 = 0\n",
        "  while True:\n",
        "       texto = input()\n",
        "       if palavra in texto:\n",
        "         texto1 += texto.count(palavra)\n",
        "       if texto == '.':\n",
        "         break\n",
        "\n",
        "  print(texto1)\n",
        "\n",
        "procurador()"
      ],
      "metadata": {
        "id": "ol7HWMVuaEdx"
      },
      "execution_count": null,
      "outputs": []
    },
    {
      "cell_type": "code",
      "source": [
        "#Desnutrição entro os Yanomami\n",
        "\n",
        "\n",
        "def saude():\n",
        "  X = 0\n",
        "  N = 0\n",
        "  M = 0\n",
        "\n",
        "  while True:\n",
        "   letra = input()\n",
        "   if letra == 'X':\n",
        "      X += 1\n",
        "   elif letra == 'N':\n",
        "      N += 1\n",
        "   elif letra == 'M':\n",
        "      M += 1\n",
        "   elif letra == '.':\n",
        "     break\n",
        "\n",
        "  print('Abaixo do peso:', X)\n",
        "  print('Peso normal:', N )\n",
        "  print('Acima do peso:', M)\n",
        "  print('Total de crianças:', X + N+ M)\n",
        "\n",
        "saude()"
      ],
      "metadata": {
        "id": "uLWVRGtOaOT9"
      },
      "execution_count": null,
      "outputs": []
    },
    {
      "cell_type": "code",
      "source": [
        "#Dispositivos inteligentes\n",
        "\n",
        "def dispositivo():\n",
        "  parado = 1\n",
        "  movimento = 0\n",
        "  dado = input()\n",
        "  while dado != 'f':\n",
        "    if dado == 'p':\n",
        "       parado += 1\n",
        "    elif dado == 'm':\n",
        "       movimento += 1\n",
        "    dado = input()\n",
        "\n",
        "  if movimento > parado:\n",
        "   print('ativo')\n",
        "  else:\n",
        "   print('sedentário')\n",
        "\n",
        "dispositivo()"
      ],
      "metadata": {
        "id": "RHLa1U5UaSS5"
      },
      "execution_count": null,
      "outputs": []
    },
    {
      "cell_type": "code",
      "source": [
        "#Código de sensor\n",
        "\n",
        "#Joaninha tromba mas não cai\n",
        "\n",
        "bateria = int(input())\n",
        "\n",
        "def sensor(bateria):\n",
        " while bateria > 5:\n",
        "  sensor1 = input()\n",
        "  sensor2 = input()\n",
        "  if sensor1 == 'B':\n",
        "    bateria -= 5\n",
        "    print('virar:', bateria)\n",
        "  elif sensor1 == 'L' and sensor2 == 'A' :\n",
        "    bateria -= 5\n",
        "    print('virar:', bateria)\n",
        "  elif sensor1 == 'L' and sensor2 == 'P':\n",
        "    bateria -= 1\n",
        "    print('avançar:', bateria)\n",
        "  print('recarregar:', bateria)\n",
        "\n",
        "sensor(bateria)"
      ],
      "metadata": {
        "id": "wFEV6uPFbZQC"
      },
      "execution_count": null,
      "outputs": []
    },
    {
      "cell_type": "code",
      "source": [
        "#Calculo do saldo\n",
        "\n",
        "saldo = float(input())\n",
        "\n",
        "def gastos(saldo):\n",
        " itens = 0\n",
        " valor_total = 0\n",
        " while True:\n",
        "    valor_do_item = float(input())\n",
        "    valor_total += valor_do_item\n",
        "    if valor_total > saldo:\n",
        "     valor_total -= valor_do_item\n",
        "     break\n",
        "\n",
        "    itens += 1\n",
        "\n",
        " saldo_restante = saldo - valor_total\n",
        "\n",
        " print(\"Número de itens\", itens)\n",
        " print(\"Saldo: %.2f\" % saldo_restante)\n",
        "\n",
        "gastos(saldo)"
      ],
      "metadata": {
        "id": "4EU6m12wbZqS"
      },
      "execution_count": null,
      "outputs": []
    },
    {
      "cell_type": "code",
      "source": [
        "#Código de PIN\n",
        "\n",
        "#PIN Cuidadoso\n",
        "\n",
        "total = int(input())\n",
        "\n",
        "def pin():\n",
        "  for i in range(total):\n",
        "   senha = int(input())\n",
        "  return pin\n",
        "\n",
        "senhas = (senha+senha)\n",
        "pin = senhas\n",
        "print(pin)\n",
        "\n",
        "total = int(input())\n",
        "\n",
        "def get_pins(total):\n",
        "    pins = []\n",
        "    for i in range(total):\n",
        "        senha = int(input())\n",
        "        pins.append(senha)\n",
        "    return pins\n",
        "\n",
        "senhas = get_pins(total)\n",
        "pin_sum = sum(senhas)\n",
        "print(pin_sum)"
      ],
      "metadata": {
        "id": "Elpkqm6JcaHe"
      },
      "execution_count": null,
      "outputs": []
    },
    {
      "cell_type": "code",
      "source": [
        "#A Compra Responsável Informada\n",
        "\n",
        "#Uma pessoa está fazendo uma compra por um site Web.\n",
        "\n",
        "#Essa pessoa decidiu nunca gastar mais do ela realmente tem.\n",
        "\n",
        "#- o primeiro valor corresponde ao valor em dinheiro que a pessoa tem na conta do banco\n",
        "\n",
        "#- o segundo valor corresponde ao total calculado no carrinho de compras.\n",
        "\n",
        "#O código irar verificar se pessoa pode ou não realizar a compra de modo a respeitar sua própria decisão, e emitir mensagens correspondentes.\n",
        "\n",
        "#Caso não deve ser efetuada para respeitar a decisão, informar 'seu saldo é insuficiente para essa compra'.\n",
        "\n",
        "valor1 = int(input())\n",
        "valor2 = int(input())\n",
        "if valor1 > valor2:\n",
        "   resultado = valor1 - valor2\n",
        "   print('se você comprar tudo o saldo será:', resultado)\n",
        "elif valor1 < valor2:\n",
        "  print('seu saldo é insuficiente para essa compra')\n",
        "else:\n",
        "  valor1 == valor2\n",
        "  resultado = valor1 - valor2\n",
        "  print('se você comprar tudo o saldo será:', resultado)"
      ],
      "metadata": {
        "id": "kayxM_nIshV3"
      },
      "execution_count": null,
      "outputs": []
    },
    {
      "cell_type": "code",
      "source": [
        "#Pin perigoso\n",
        "\n",
        "def senha(data_aniversario,data_importante):\n",
        "  pin = data_aniversario + data_importante\n",
        "  return pin\n",
        "\n",
        "data_aniversario = int(input())\n",
        "data_importante = int(input())\n",
        "\n",
        "pin = senha(data_aniversario,data_importante)\n",
        "print(pin)"
      ],
      "metadata": {
        "id": "C8ryTbXGchYF"
      },
      "execution_count": null,
      "outputs": []
    },
    {
      "cell_type": "code",
      "source": [
        "#Dicionário Real\n",
        "\n",
        "dicionario = {}\n",
        "\n",
        "while True:\n",
        "\n",
        "    entrada = input()\n",
        "\n",
        "\n",
        "    if entrada == 'fim':\n",
        "        break\n",
        "\n",
        "\n",
        "    nome, idade = entrada.split()\n",
        "\n",
        "\n",
        "    dicionario[nome] = int(idade)\n",
        "\n",
        "\n",
        "    print(dicionario)\n"
      ],
      "metadata": {
        "id": "mb3ujbsdqb2I"
      },
      "execution_count": null,
      "outputs": []
    },
    {
      "cell_type": "code",
      "source": [
        "#Dictionary\n",
        "\n",
        "verse = input().lower()\n",
        "change = [',','.','\"',\"'\",]\n",
        "for point in change:\n",
        "    verse = verse.replace(point, '')\n",
        "words_list = verse.split()\n",
        "dictionary = {}\n",
        "\n",
        "for word in words_list:\n",
        "  if word in dictionary:\n",
        "    dictionary[word] +=1\n",
        "  else:\n",
        "    dictionary[word] =1\n",
        "print(dictionary)\n",
        "\n",
        "while True:\n",
        "  word = input().lower()\n",
        "  if word == '.':\n",
        "   break\n",
        "  if word in dictionary:\n",
        "    occurrences = dictionary[word]\n",
        "    print(occurrences)\n",
        "  else:\n",
        "    print(word, 'não encontrada')"
      ],
      "metadata": {
        "id": "ZCzGiQ8rcmtx"
      },
      "execution_count": null,
      "outputs": []
    },
    {
      "cell_type": "code",
      "source": [
        "#Versos dos poeamas\n",
        "\n",
        "verse = input().lower()\n",
        "change = [',','.','\"',\"'\",]\n",
        "for point in change:\n",
        "    verse = verse.replace(point, '')\n",
        "words_list = verse.split()\n",
        "dictionary = {}\n",
        "\n",
        "for word in words_list:\n",
        "  if word in dictionary:\n",
        "    dictionary[word] +=1\n",
        "  else:\n",
        "    dictionary[word] =1\n",
        "print(dictionary)\n",
        "\n",
        "while True:\n",
        "  word = input()\n",
        "  if word in dictionary:\n",
        "   occurrences = verse.count(word.lower())\n",
        "  if word == '.':\n",
        "    break\n",
        "  else:\n",
        "    print('não encontrada')"
      ],
      "metadata": {
        "id": "om4TTKgEcvbi"
      },
      "execution_count": null,
      "outputs": []
    },
    {
      "cell_type": "code",
      "source": [
        "#Exerc 1 = Poemas ao vento #1\n",
        "\n",
        "verse = input().lower()\n",
        "change = [',','.','\"',\"'\",]\n",
        "for point in change:\n",
        "    verse = verse.replace(point, '')\n",
        "words_list = verse.split()\n",
        "dictionary = {}\n",
        "for word in words_list:\n",
        "  if word in dictionary:\n",
        "    dictionary[word] +=1\n",
        "  else:\n",
        "    dictionary[word] =1\n",
        "print(dictionary)\n"
      ],
      "metadata": {
        "id": "FMdWNLByluFA"
      },
      "execution_count": null,
      "outputs": []
    },
    {
      "cell_type": "code",
      "source": [
        "#Poemas ao vento\n",
        "\n",
        "verse = input().lower()\n",
        "change = [',','.','\"',\"'\",]\n",
        "for point in change:\n",
        "    verse = verse.replace(point, '')\n",
        "words_list = verse.split()\n",
        "dictionary = {}\n",
        "\n",
        "for word in words_list:\n",
        "  if word in dictionary:\n",
        "    dictionary[word] +=1\n",
        "  else:\n",
        "    dictionary[word] =1\n",
        "print(dictionary)\n",
        "\n",
        "word_inquiery = input().lower()\n",
        "if word_inquiery in dictionary:\n",
        "  result = dictionary[word_inquiery]\n",
        "  print(result)\n",
        "else:\n",
        "    print(word_inquiery, 'não encontrada'.format(word_inquiery))\n",
        "\n",
        "while True:\n",
        "  word = input().lower()\n",
        "  if word in dictionary:\n",
        "   occurrences = verse.count(word.lower())\n",
        "   print(occurrences)\n",
        "  if word == '.':\n",
        "    break\n",
        "  else:\n",
        "    print(word, 'não encontrada')"
      ],
      "metadata": {
        "id": "n9SKvuZRcy7g"
      },
      "execution_count": null,
      "outputs": []
    },
    {
      "cell_type": "code",
      "source": [
        "#Poema poético\n",
        "\n",
        "verse = input().lower()\n",
        "change = [',','.','\"',\"'\",]\n",
        "for point in change:\n",
        "    verse = verse.replace(point, '')\n",
        "words_list = verse.split()\n",
        "dictionary = {}\n",
        "for word in words_list:\n",
        "  if word in dictionary:\n",
        "    dictionary[word] +=1\n",
        "  else:\n",
        "    dictionary[word] =1\n",
        "print(dictionary)\n"
      ],
      "metadata": {
        "id": "B5UCdjpYc5nI"
      },
      "execution_count": null,
      "outputs": []
    },
    {
      "cell_type": "code",
      "source": [
        "#Sempre na luta pelo meio ambiente\n",
        "\n",
        "v1 = float(input())\n",
        "\n",
        "observacoes = 0\n",
        "estimativas = 0\n",
        "\n",
        "while True:\n",
        "  v2 = float(input())\n",
        "  if v2 == -1:\n",
        "   break\n",
        "\n",
        "  observacoes += 1\n",
        "  if v1 > v2:\n",
        "   estimativas += 1\n",
        "\n",
        "print(observacoes,estimativas)"
      ],
      "metadata": {
        "id": "1XlX-l7uc_RV"
      },
      "execution_count": null,
      "outputs": []
    },
    {
      "cell_type": "code",
      "source": [
        "#Desmatamento na Amazônia\n",
        "\n",
        "a_d = float(input())\n",
        "porc = float(input())\n",
        "\n",
        "resultado = (100 * a_d) / (porc + 100)\n",
        "print('%.1f' % resultado)"
      ],
      "metadata": {
        "id": "mj7vg__ldD2p"
      },
      "execution_count": null,
      "outputs": []
    },
    {
      "cell_type": "code",
      "source": [
        "#String: count() lower() upper()\n",
        "\n",
        "standard = input()\n",
        "text = input()\n",
        "\n",
        "occurrences = text.lower().count(standard.lower())\n",
        "another = text.count(standard)\n",
        "print(another)\n",
        "print(occurrences)"
      ],
      "metadata": {
        "id": "GT7ddbNOdEKV"
      },
      "execution_count": null,
      "outputs": []
    },
    {
      "cell_type": "code",
      "source": [
        "#Loud Parrot\n",
        "\n",
        "loud_parrot = input().upper()\n",
        "print(loud_parrot)"
      ],
      "metadata": {
        "id": "38cShK4LdJTg"
      },
      "execution_count": null,
      "outputs": []
    },
    {
      "cell_type": "code",
      "source": [
        "#Jogo da Manilha velha\n",
        "\n",
        "#Manilha velha\n",
        "\n",
        "carta1 = input()\n",
        "carta2 = input()\n",
        "carta3 = input()\n",
        "\n",
        "cartas = [carta1, carta2, carta3]\n",
        "cartas_excelentes = 0\n",
        "\n",
        "for carta in cartas:\n",
        " if carta == '4Paus' or '7Copas' or 'AEspadas' or '7Ouros':\n",
        "    cartas_excelentes += 1\n",
        "\n",
        "print(cartas_excelentes)\n"
      ],
      "metadata": {
        "id": "7YIEhyJKdPjL"
      },
      "execution_count": null,
      "outputs": []
    },
    {
      "cell_type": "code",
      "source": [
        "#How many taxes?\n",
        "\n",
        "taxas = []\n",
        "\n",
        "while True:\n",
        " taxa = float(input())\n",
        " taxas.append(taxa)\n",
        " if taxa == 0:\n",
        "  break\n",
        "\n",
        "maior = max(taxas)\n",
        "print(\"%.2f\" % maior)"
      ],
      "metadata": {
        "id": "3hEVBsrweX0L"
      },
      "execution_count": null,
      "outputs": []
    },
    {
      "cell_type": "code",
      "source": [
        "#Soma, subtração, multiplicação, divisão, módulo, divisão inteira e potência\n",
        "\n",
        "valor1 = int(input())\n",
        "valor2 = int(input())\n",
        "\n",
        "soma = valor1 + valor2\n",
        "print(soma)\n",
        "\n",
        "subtração = valor1 - valor2\n",
        "print(subtração)\n",
        "\n",
        "multiplicação = valor1 * valor2\n",
        "print(multiplicação)\n",
        "\n",
        "divisão = valor1 / valor2\n",
        "print(\"%.2f\" % divisão)\n",
        "\n",
        "modulo = valor1 % valor2\n",
        "print(modulo)\n",
        "\n",
        "divisão_inteira = valor1 // valor2\n",
        "print(divisão_inteira)\n",
        "\n",
        "exponenciação = valor1 ** valor2\n",
        "print(exponenciação)\n"
      ],
      "metadata": {
        "id": "7o-WOKn8emN0"
      },
      "execution_count": null,
      "outputs": []
    },
    {
      "cell_type": "code",
      "source": [
        "#Isenção de Pagamento A\n",
        "\n",
        "idade = int(input())\n",
        "\n",
        "if idade >= 60:\n",
        " print('Gratis')\n",
        "\n",
        "else:\n",
        " print('Pago')"
      ],
      "metadata": {
        "id": "-vwTuYOuer9u"
      },
      "execution_count": null,
      "outputs": []
    },
    {
      "cell_type": "code",
      "source": [
        "#Isenção de Pagamento B\n",
        "\n",
        "idade = int(input())\n",
        "\n",
        "if idade >= 60:\n",
        " print('Gratis')\n",
        "\n",
        "elif idade <= 6:\n",
        " print('Gratis no colo')\n",
        "\n",
        "else:\n",
        " print('Pago')"
      ],
      "metadata": {
        "id": "RHj-dfe6eu0j"
      },
      "execution_count": null,
      "outputs": []
    },
    {
      "cell_type": "code",
      "source": [
        "#Eu divido, tu divides, ela divide: com resto\n",
        "\n",
        "valor1 = int(input())\n",
        "operador = input()\n",
        "valor2 = int(input())\n",
        "\n",
        "if operador == '%':\n",
        " exponenciação = valor1 % valor2\n",
        " print(exponenciação)\n",
        "\n",
        "elif operador == '//':\n",
        " divisão = valor1 // valor2\n",
        " print(divisão)\n",
        "\n",
        "elif operador == '/':\n",
        " modulo = valor1 / valor2\n",
        " print(\"%.1f\" % modulo)"
      ],
      "metadata": {
        "id": "S4zZW4P3eyCX"
      },
      "execution_count": null,
      "outputs": []
    },
    {
      "cell_type": "code",
      "source": [
        "#Variável?\n",
        "\n",
        "\n",
        "\n",
        "caracter = input()\n",
        "\n",
        "if caracter[0].isalpha() or caracter[0] == '_':\n",
        "  # verificando as outras\n",
        "  letras_restantes = caracter[1:]\n",
        "  for letra in letras_restantes:\n",
        "     # para cada letra restante, vamos verificar e\n",
        "     # se uma delas não for alfanumérica ou _ então já sabemos que tá errado\n",
        "     if not letra.isalnum() and letra != '_':\n",
        "         print('ERROR')\n",
        "         break\n",
        "else:\n",
        " print('OK')"
      ],
      "metadata": {
        "id": "cNGpsnyyfMKg"
      },
      "execution_count": null,
      "outputs": []
    },
    {
      "cell_type": "code",
      "source": [
        "#String: lower() upper() title()\n",
        "\n",
        "texto = input()\n",
        "\n",
        "I = texto.title()\n",
        "II = texto.lower()\n",
        "III = texto.upper()\n",
        "\n",
        "print(I)\n",
        "print(II)\n",
        "print(III)"
      ],
      "metadata": {
        "id": "cjYlnstcfuKz"
      },
      "execution_count": null,
      "outputs": []
    },
    {
      "cell_type": "code",
      "source": [
        "#Cripto weak\n",
        "\n",
        "letra = input()\n",
        "subst = input()\n",
        "mensagem = input()\n",
        "\n",
        "re_mensagem = mensagem.replace(letra, subst)\n",
        "print(re_mensagem)"
      ],
      "metadata": {
        "id": "QsPEKYATf_hE"
      },
      "execution_count": null,
      "outputs": []
    },
    {
      "cell_type": "code",
      "source": [
        "#SOS Morse\n",
        "\n",
        "mensagem = input()\n",
        "Cód = '...---..'\n",
        "\n",
        "if Cód in mensagem:\n",
        " print('S')\n",
        "else:\n",
        "  print('N')"
      ],
      "metadata": {
        "id": "qyYeJ3S3gPg2"
      },
      "execution_count": null,
      "outputs": []
    },
    {
      "cell_type": "code",
      "source": [
        "#Compra com desconto\n",
        "\n",
        "valor = float(input())\n",
        "desconto = float(input())\n",
        "\n",
        "print('{:.2f}'.format(valor))\n",
        "desconto = valor * (desconto / 100)\n",
        "print('{:.2f}'.format(valor - desconto))\n",
        "print('{:.2f}'.format(desconto))"
      ],
      "metadata": {
        "id": "EJx7yEjRgNQc"
      },
      "execution_count": null,
      "outputs": []
    },
    {
      "cell_type": "code",
      "source": [
        "#Duas vs Duas\n",
        "\n",
        "girl1_1=int(input())\n",
        "girl2_1=int(input())\n",
        "girl1_2=int(input())\n",
        "girl2_2=int(input())\n",
        "\n",
        "dupla1=max(girl1_1, girl1_2)\n",
        "dupla2=max(girl2_1, girl2_2)\n",
        "\n",
        "if dupla1 > dupla2:\n",
        " print(dupla1)\n",
        "elif dupla2 > dupla1:\n",
        " print(dupla2)\n",
        "\n",
        "else:\n",
        " print('empate')"
      ],
      "metadata": {
        "id": "w1-kpbvtgct_"
      },
      "execution_count": null,
      "outputs": []
    },
    {
      "cell_type": "code",
      "source": [
        "#Leitura de listas de strings, inteiros e floats\n",
        "\n",
        "letra = input()\n",
        "numero = input()\n",
        "lista = []\n",
        "\n",
        "if letra == 'f':\n",
        " lista = [float(item) for item in numero.split()]\n",
        " print(lista)\n",
        "elif letra == 'n':\n",
        " lista = [int(float(item)) for item in numero.split()]\n",
        " print(lista)\n",
        "elif letra == 's':\n",
        " lista = numero.split()\n",
        " print(lista)"
      ],
      "metadata": {
        "id": "pEGg8FqMgkQP"
      },
      "execution_count": null,
      "outputs": []
    },
    {
      "cell_type": "code",
      "source": [
        "#String: usando split() para gerar uma lista\n",
        "\n",
        "linha = input()\n",
        "\n",
        "l_strings = []\n",
        "for s in linha.split():\n",
        "  l_strings.append(s)\n",
        "\n",
        "l_inteiros = []\n",
        "for i in linha.split():\n",
        "  i = int(i)\n",
        "  i = i * 2\n",
        "  l_inteiros.append(i)\n",
        "\n",
        "l_decimais = []\n",
        "for f in linha.split():\n",
        "  f = int(f)\n",
        "  f = f / 2\n",
        "  l_decimais.append(f)\n",
        "\n",
        "lista = len(l_strings)\n",
        "print(l_strings)\n",
        "print(l_inteiros)\n",
        "print(l_decimais)\n",
        "print(lista)"
      ],
      "metadata": {
        "id": "2UmL3U1Ih9ue"
      },
      "execution_count": null,
      "outputs": []
    },
    {
      "cell_type": "code",
      "source": [
        "#Base 10\n",
        "\n",
        "#Base para calcular até o cintésimo\n",
        "\n",
        "B1 = int(input())\n",
        "B2 = int(input())\n",
        "B3 = int(input())\n",
        "B4 = int(input())\n",
        "\n",
        "valor_inteiro = B1 * 1000 + B2 * 100 + B3 * 10 + B4\n",
        "print(valor_inteiro * 2)\n"
      ],
      "metadata": {
        "id": "FpGPqcKiiYUY"
      },
      "execution_count": null,
      "outputs": []
    },
    {
      "cell_type": "code",
      "source": [
        "#Base 2\n",
        "\n",
        "B1 = int(input())\n",
        "B2 = int(input())\n",
        "B3 = int(input())\n",
        "B4 = int(input())\n",
        "\n",
        "valor_inteiro = B1*(2**3) + B2*(2**2) + B3*(2**1) + B4*(2**0)\n",
        "print(valor_inteiro)\n"
      ],
      "metadata": {
        "id": "9rw1L6giiqEp"
      },
      "execution_count": null,
      "outputs": []
    },
    {
      "cell_type": "code",
      "source": [
        "#Contador B\n",
        "\n",
        "numero = int(input())\n",
        "\n",
        "for i in range(numero+1):\n",
        " print(i)"
      ],
      "metadata": {
        "id": "ka6PzIe5jOyQ"
      },
      "execution_count": null,
      "outputs": []
    },
    {
      "cell_type": "code",
      "source": [
        "#Contador C\n",
        "\n",
        "numero = int(input())\n",
        "\n",
        "for i in range(0, numero+1, 2):\n",
        " print(i)"
      ],
      "metadata": {
        "id": "liMr8skWjRX-"
      },
      "execution_count": null,
      "outputs": []
    },
    {
      "cell_type": "code",
      "source": [
        "#Tabuada: tabulada\n",
        "\n",
        "numero = int(input())\n",
        "\n",
        "print('Tabuada', 'do', numero)\n",
        "\n",
        "for i in range(1, 12):\n",
        " resultado = numero * i\n",
        " print(numero,'x', i, '=', resultado)"
      ],
      "metadata": {
        "id": "cP-SS7nejT9w"
      },
      "execution_count": null,
      "outputs": []
    },
    {
      "cell_type": "code",
      "source": [
        "#Tabuada: Flex\n",
        "\n",
        "n1 = int(input())\n",
        "n2 = int(input())\n",
        "n3 = int(input())\n",
        "\n",
        "print('Tabuada do', n1, 'de', n2, 'até', n3)\n",
        "\n",
        "for i in range(n2, n3+1, 1):\n",
        " resultado = i * n1\n",
        " print(n1, \"x\", i, \"=\", resultado)"
      ],
      "metadata": {
        "id": "Egxen_OAjWR5"
      },
      "execution_count": null,
      "outputs": []
    },
    {
      "cell_type": "code",
      "source": [
        "#Lista maluca\n",
        "\n",
        "letra = input()\n",
        "lista = []\n",
        "\n",
        "if letra == 'f':\n",
        " f = int(input())\n",
        " lista.append(f)\n",
        " print(lista)\n",
        "elif letra == 'n':\n",
        " n = float(input())\n",
        " lista.append(n)\n",
        " print(lista)\n",
        "elif letra == 's':\n",
        " s = input()\n",
        " lista.append(s)\n",
        " print(lista)"
      ],
      "metadata": {
        "id": "vZGlay4GrmqK"
      },
      "execution_count": null,
      "outputs": []
    },
    {
      "cell_type": "code",
      "source": [
        "#email#1\n",
        "\n",
        "quant = int(input())\n",
        "contador = 0\n",
        "\n",
        "for i in range(quant):\n",
        " email = input()\n",
        " if '@' not in email:\n",
        "  contador += 1\n",
        "print(contador)"
      ],
      "metadata": {
        "id": "11O9Bm7cjYuh"
      },
      "execution_count": null,
      "outputs": []
    },
    {
      "cell_type": "code",
      "source": [
        "#email#2\n",
        "\n",
        "quant = int(input())\n",
        "contador = 0\n",
        "\n",
        "for i in range(quant):\n",
        " email = input()\n",
        " if '@' and 'gmail' not  in email:\n",
        "  contador += 1\n",
        "print(contador)"
      ],
      "metadata": {
        "id": "AxNSHEENjbax"
      },
      "execution_count": null,
      "outputs": []
    },
    {
      "cell_type": "code",
      "source": [
        "#Balanço Financeiro Categorizado\n",
        "\n",
        "num_movimentacoes = int(input())\n",
        "\n",
        "despesas = {'A': 0, 'M': 0, 'T': 0, 'S': 0, 'L': 0}\n",
        "receitas = {'S': 0, 'P': 0}\n",
        "\n",
        "for _ in range(num_movimentacoes):\n",
        "    valor = float(input())\n",
        "    categoria = input()\n",
        "\n",
        "    if valor < 0:\n",
        "        despesas[categoria] += valor\n",
        "    else:\n",
        "        receitas[categoria] += valor\n",
        "\n",
        "total_renda = sum(receitas.values())\n",
        "total_gastos = sum(despesas.values())\n",
        "balanco = total_renda + total_gastos\n",
        "\n",
        "print('Movimentações')\n",
        "if despesas['A'] != 0:\n",
        "    print('  Alimentação:', format(despesas['A'], '.2f'))\n",
        "if despesas['M'] != 0:\n",
        "    print('  Moradia:', format(despesas['M'], '.2f'))\n",
        "if despesas['T'] != 0:\n",
        "    print('  Transporte:', format(despesas['T'], '.2f'))\n",
        "if despesas['S'] != 0:\n",
        "    print('  Saúde:', format(despesas['S'], '.2f'))\n",
        "if despesas['L'] != 0:\n",
        "    print('  Lazer:', format(despesas['L'], '.2f'))\n",
        "if receitas['S'] != 0:\n",
        "    print('  Salário:', format(receitas['S'], '.2f'))\n",
        "if receitas['P'] != 0:\n",
        "    print('  Prestação de serviços:', format(receitas['P'], '.2f'))\n",
        "\n",
        "print(\"Total de Renda:\", format(total_renda, \".2f\"))\n",
        "print(\"Total de Gastos:\", format(total_gastos, \".2f\"))\n",
        "print(\"Balanço:\", format(balanco, \".2f\"))"
      ],
      "metadata": {
        "id": "KhXDYqKXrRzo"
      },
      "execution_count": null,
      "outputs": []
    },
    {
      "cell_type": "code",
      "source": [
        "#Utilizando Merge_Sort\n",
        "\n",
        "def merge_sort(array):\n",
        "\n",
        "    if len(array) > 1:\n",
        "        meio = len(array) // 2\n",
        "        metade_esquerda = array[:meio]\n",
        "        metade_direita = array[meio:]\n",
        "\n",
        "        merge_sort(metade_esquerda)\n",
        "        merge_sort(metade_direita)\n",
        "\n",
        "        i = j = k = 0\n",
        "\n",
        "        while i < len(metade_esquerda) and j < len(metade_direita):\n",
        "            if metade_esquerda[i] < metade_direita[j]:\n",
        "                array[k] = metade_esquerda[i]\n",
        "                i += 1\n",
        "            else:\n",
        "                array[k] = metade_direita[j]\n",
        "                j += 1\n",
        "            k += 1\n",
        "\n",
        "        while i < len(metade_esquerda):\n",
        "            array[k] = metade_esquerda[i]\n",
        "            i += 1\n",
        "            k += 1\n",
        "\n",
        "        while j < len(metade_direita):\n",
        "            array[k] = metade_direita[j]\n",
        "            j += 1\n",
        "            k += 1\n",
        "\n",
        "\n",
        "entrada = input()\n",
        "numeros = [int(num) for num in entrada.split()]\n",
        "\n",
        "merge_sort(numeros)\n",
        "print(numeros)\n"
      ],
      "metadata": {
        "id": "QGgT_qhxqAgK"
      },
      "execution_count": null,
      "outputs": []
    },
    {
      "cell_type": "code",
      "source": [
        "#Desenhando paramêtros\n",
        "\n",
        "entrada = input()\n",
        "numeros = [int(num) for num in entrada.split()]\n",
        "nova_lista = []\n",
        "\n",
        "\n",
        "while numeros:\n",
        "    print(\"-\", str(numeros))\n",
        "    print(\"+\", str(nova_lista))\n",
        "    menor_valor = min(numeros)\n",
        "    nova_lista.append(menor_valor)\n",
        "    numeros.remove(menor_valor)\n",
        "\n",
        "\n",
        "print(\"-\", str(numeros))\n",
        "print(\"+\", str(nova_lista))\n",
        "\n"
      ],
      "metadata": {
        "id": "KEJGTHXdqPwU"
      },
      "execution_count": null,
      "outputs": []
    }
  ]
}